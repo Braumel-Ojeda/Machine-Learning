{
 "cells": [
  {
   "cell_type": "markdown",
   "id": "6a12237b",
   "metadata": {},
   "source": [
    "# Extra Activity - Least squares method\n",
    "\n",
    "**Ojeda Contreras Braulio Melquisedec**\n",
    "\n",
    "**November 11th, 2022**\n",
    "\n",
    "*Requirements:*\n",
    "\n",
    "Using the peleteria.csv dataset do the following:\n",
    "1. Load the dataset into a pandas dataframe\n",
    "2. Divide the dataset in training set (90%) and test set (10%) ensuring to shuffle them and fixing the random state seed as 0\n",
    "3. Using the training set calculate the corresponding sumatories from the least squares method\n",
    "4. Build the model (linear regression) and plot the line accompanied with the training set scatter plot\n",
    "5. Predict the values for the test set and compare it with the real values\n",
    "6. Plot the model again but now with the test set scatter plot"
   ]
  },
  {
   "cell_type": "code",
   "execution_count": 1,
   "id": "b7f2fd36",
   "metadata": {},
   "outputs": [],
   "source": [
    "# Importing needed libraries\n",
    "import pandas as pd\n",
    "import numpy as np\n",
    "from sklearn.model_selection import train_test_split\n",
    "import matplotlib.pyplot as plot\n",
    "plot.style.use('seaborn')\n",
    "%matplotlib inline"
   ]
  },
  {
   "cell_type": "code",
   "execution_count": 2,
   "id": "b2f24d32",
   "metadata": {},
   "outputs": [],
   "source": [
    "# Setting configuration for pandas dataframes visualizations\n",
    "pd.set_option('display.max_rows', None)\n",
    "pd.set_option('display.max_columns', None)\n",
    "pd.set_option('display.width', 1000)\n",
    "pd.set_option('display.colheader_justify', 'center')\n",
    "pd.set_option('display.precision', 3)"
   ]
  },
  {
   "cell_type": "code",
   "execution_count": 3,
   "id": "4847cb37",
   "metadata": {},
   "outputs": [],
   "source": [
    "# Create a data.frame with the file given\n",
    "df = pd.read_csv('./peleteria.csv', sep=',', engine='python')"
   ]
  },
  {
   "cell_type": "code",
   "execution_count": 4,
   "id": "330b2218",
   "metadata": {},
   "outputs": [
    {
     "data": {
      "text/html": [
       "<div>\n",
       "<style scoped>\n",
       "    .dataframe tbody tr th:only-of-type {\n",
       "        vertical-align: middle;\n",
       "    }\n",
       "\n",
       "    .dataframe tbody tr th {\n",
       "        vertical-align: top;\n",
       "    }\n",
       "\n",
       "    .dataframe thead th {\n",
       "        text-align: right;\n",
       "    }\n",
       "</style>\n",
       "<table border=\"1\" class=\"dataframe\">\n",
       "  <thead>\n",
       "    <tr style=\"text-align: center;\">\n",
       "      <th></th>\n",
       "      <th>x</th>\n",
       "      <th>y</th>\n",
       "    </tr>\n",
       "  </thead>\n",
       "  <tbody>\n",
       "    <tr>\n",
       "      <th>0</th>\n",
       "      <td>3</td>\n",
       "      <td>5</td>\n",
       "    </tr>\n",
       "    <tr>\n",
       "      <th>1</th>\n",
       "      <td>7</td>\n",
       "      <td>11</td>\n",
       "    </tr>\n",
       "    <tr>\n",
       "      <th>2</th>\n",
       "      <td>11</td>\n",
       "      <td>21</td>\n",
       "    </tr>\n",
       "    <tr>\n",
       "      <th>3</th>\n",
       "      <td>15</td>\n",
       "      <td>16</td>\n",
       "    </tr>\n",
       "    <tr>\n",
       "      <th>4</th>\n",
       "      <td>18</td>\n",
       "      <td>16</td>\n",
       "    </tr>\n",
       "    <tr>\n",
       "      <th>5</th>\n",
       "      <td>27</td>\n",
       "      <td>28</td>\n",
       "    </tr>\n",
       "    <tr>\n",
       "      <th>6</th>\n",
       "      <td>29</td>\n",
       "      <td>27</td>\n",
       "    </tr>\n",
       "    <tr>\n",
       "      <th>7</th>\n",
       "      <td>30</td>\n",
       "      <td>25</td>\n",
       "    </tr>\n",
       "    <tr>\n",
       "      <th>8</th>\n",
       "      <td>30</td>\n",
       "      <td>35</td>\n",
       "    </tr>\n",
       "    <tr>\n",
       "      <th>9</th>\n",
       "      <td>31</td>\n",
       "      <td>30</td>\n",
       "    </tr>\n",
       "  </tbody>\n",
       "</table>\n",
       "</div>"
      ],
      "text/plain": [
       "    x   y\n",
       "0   3   5\n",
       "1   7  11\n",
       "2  11  21\n",
       "3  15  16\n",
       "4  18  16\n",
       "5  27  28\n",
       "6  29  27\n",
       "7  30  25\n",
       "8  30  35\n",
       "9  31  30"
      ]
     },
     "execution_count": 4,
     "metadata": {},
     "output_type": "execute_result"
    }
   ],
   "source": [
    "df.head(10)"
   ]
  },
  {
   "cell_type": "code",
   "execution_count": 5,
   "id": "2ddf7cdb",
   "metadata": {},
   "outputs": [],
   "source": [
    "# Indicating tag column name\n",
    "tag_name = 'y'"
   ]
  },
  {
   "cell_type": "code",
   "execution_count": 6,
   "id": "0b99adc2",
   "metadata": {},
   "outputs": [
    {
     "data": {
      "text/plain": [
       "array([[ 3],\n",
       "       [ 7],\n",
       "       [11],\n",
       "       [15],\n",
       "       [18],\n",
       "       [27],\n",
       "       [29],\n",
       "       [30],\n",
       "       [30],\n",
       "       [31],\n",
       "       [31],\n",
       "       [32],\n",
       "       [33],\n",
       "       [33],\n",
       "       [34],\n",
       "       [36],\n",
       "       [36],\n",
       "       [36],\n",
       "       [37],\n",
       "       [38],\n",
       "       [39],\n",
       "       [39],\n",
       "       [39],\n",
       "       [40],\n",
       "       [41],\n",
       "       [42],\n",
       "       [42],\n",
       "       [43],\n",
       "       [44],\n",
       "       [45],\n",
       "       [46],\n",
       "       [47],\n",
       "       [50]])"
      ]
     },
     "execution_count": 6,
     "metadata": {},
     "output_type": "execute_result"
    }
   ],
   "source": [
    "# Corpus without tags\n",
    "X = df.drop(tag_name, axis=1).values\n",
    "X"
   ]
  },
  {
   "cell_type": "code",
   "execution_count": 7,
   "id": "9be89c1f",
   "metadata": {},
   "outputs": [
    {
     "data": {
      "text/plain": [
       "array([ 5, 11, 21, 16, 16, 28, 27, 25, 35, 30, 40, 32, 34, 32, 34, 37, 38,\n",
       "       34, 36, 38, 37, 36, 45, 39, 41, 40, 44, 37, 44, 46, 46, 49, 51])"
      ]
     },
     "execution_count": 7,
     "metadata": {},
     "output_type": "execute_result"
    }
   ],
   "source": [
    "# Tags\n",
    "y = df[tag_name].values\n",
    "y"
   ]
  },
  {
   "cell_type": "code",
   "execution_count": 8,
   "id": "d50c84c9",
   "metadata": {},
   "outputs": [],
   "source": [
    "# Getting training and test data\n",
    "X_e, X_p, y_e, y_p = train_test_split(X, y, test_size = 0.1, shuffle = True, random_state = 0)"
   ]
  },
  {
   "cell_type": "code",
   "execution_count": 9,
   "id": "2f64b6cc",
   "metadata": {},
   "outputs": [],
   "source": [
    "# Calculating sumatories from the least squares method\n",
    "def linear_regression_least_squares(X, y):\n",
    "    sum_X = np.sum(X)\n",
    "    print(\"Sum X =\", sum_X)\n",
    "    sum_y = np.sum(y)\n",
    "    print(\"Sum y =\", sum_y)\n",
    "    sum_X_y = np.sum(np.multiply(np.ravel(X), y))\n",
    "    print(\"Sum X*y =\", sum_X_y)\n",
    "    sum_X_pow_2 = np.sum(np.multiply(np.ravel(X), np.ravel(X)))\n",
    "    print(\"Sum X^2 =\", sum_X_pow_2)\n",
    "    n = len(X)\n",
    "    print(\"n =\", n)\n",
    "\n",
    "    b_1 = ((n * sum_X_y) - (sum_X * sum_y)) / ((n * sum_X_pow_2) - (sum_X)**2)\n",
    "    b_0 = (sum_y - b_1 * sum_X) / n\n",
    "    \n",
    "    return b_0, b_1"
   ]
  },
  {
   "cell_type": "code",
   "execution_count": 10,
   "id": "fa9e446a",
   "metadata": {},
   "outputs": [],
   "source": [
    "# Building the distinct elements of the plot\n",
    "def plot_linear_regression(x, fx, b_0, b_1, X, y):\n",
    "    fig, ax = plot.subplots()\n",
    "    ax.plot(x, eval(fx), color = \"green\")\n",
    "    xmin, xmax = ax.get_xlim()\n",
    "    ymin, ymax = ax.get_ylim()\n",
    "    ax.grid(True, linestyle = \"-\")\n",
    "    ax.scatter(X, y)\n",
    "    ax.annotate(\"\", xy = (xmax, 0), xytext=(xmin, 0),\n",
    "                arrowprops = dict(color = 'gray', width = 1.5, headwidth = 8, headlength = 10))\n",
    "    ax.annotate(\"\", xy = (0, ymax), xytext=(0, ymin),\n",
    "                arrowprops = dict(color = 'gray', width = 1.5, headwidth = 8, headlength = 10))\n",
    "    title = \"y = \" + str(round(b_0, 4)) + \" + \" + str(round(b_1, 4)) + \"x\"\n",
    "    plot.title(title)\n",
    "    plot.show()"
   ]
  },
  {
   "cell_type": "code",
   "execution_count": 11,
   "id": "d7cb2d53",
   "metadata": {},
   "outputs": [],
   "source": [
    "def predict(x, fx, b_0, b_1):\n",
    "    y = eval(fx)\n",
    "    return y"
   ]
  },
  {
   "cell_type": "code",
   "execution_count": 12,
   "id": "11ff2edb",
   "metadata": {},
   "outputs": [
    {
     "name": "stdout",
     "output_type": "stream",
     "text": [
      "Sum X = 956\n",
      "Sum y = 980\n",
      "Sum X*y = 35983\n",
      "Sum X^2 = 35564\n",
      "n = 29\n",
      "b_0 = 3.8577073752342015\n",
      "b_1 = 0.9080820984500085\n"
     ]
    }
   ],
   "source": [
    "# Linear regression from training data\n",
    "b_0, b_1 = linear_regression_least_squares(X_e, y_e)\n",
    "print(\"b_0 =\", b_0)\n",
    "print(\"b_1 =\", b_1)"
   ]
  },
  {
   "cell_type": "code",
   "execution_count": 13,
   "id": "92ea92f0",
   "metadata": {},
   "outputs": [
    {
     "data": {
      "image/png": "[encoded data removed]",
      "text/plain": [
       "<Figure size 800x550 with 1 Axes>"
      ]
     },
     "metadata": {},
     "output_type": "display_data"
    }
   ],
   "source": [
    "training_fx = \"b_0 + b_1 * x\"\n",
    "plot_linear_regression(np.linspace(-5, 50, 1000), training_fx, b_0, b_1, X_e, y_e)"
   ]
  },
  {
   "cell_type": "code",
   "execution_count": 14,
   "id": "2e3b1bd6",
   "metadata": {},
   "outputs": [
    {
     "data": {
      "text/html": [
       "<div>\n",
       "<style scoped>\n",
       "    .dataframe tbody tr th:only-of-type {\n",
       "        vertical-align: middle;\n",
       "    }\n",
       "\n",
       "    .dataframe tbody tr th {\n",
       "        vertical-align: top;\n",
       "    }\n",
       "\n",
       "    .dataframe thead th {\n",
       "        text-align: right;\n",
       "    }\n",
       "</style>\n",
       "<table border=\"1\" class=\"dataframe\">\n",
       "  <thead>\n",
       "    <tr style=\"text-align: center;\">\n",
       "      <th></th>\n",
       "      <th>X</th>\n",
       "      <th>predicted_value</th>\n",
       "      <th>real_value</th>\n",
       "      <th>absolute_error</th>\n",
       "    </tr>\n",
       "  </thead>\n",
       "  <tbody>\n",
       "    <tr>\n",
       "      <th>0</th>\n",
       "      <td>32.0</td>\n",
       "      <td>32.916</td>\n",
       "      <td>32.0</td>\n",
       "      <td>0.916</td>\n",
       "    </tr>\n",
       "    <tr>\n",
       "      <th>1</th>\n",
       "      <td>39.0</td>\n",
       "      <td>39.273</td>\n",
       "      <td>37.0</td>\n",
       "      <td>2.273</td>\n",
       "    </tr>\n",
       "    <tr>\n",
       "      <th>2</th>\n",
       "      <td>41.0</td>\n",
       "      <td>41.089</td>\n",
       "      <td>41.0</td>\n",
       "      <td>0.089</td>\n",
       "    </tr>\n",
       "    <tr>\n",
       "      <th>3</th>\n",
       "      <td>36.0</td>\n",
       "      <td>36.549</td>\n",
       "      <td>34.0</td>\n",
       "      <td>2.549</td>\n",
       "    </tr>\n",
       "  </tbody>\n",
       "</table>\n",
       "</div>"
      ],
      "text/plain": [
       "     X   predicted_value  real_value  absolute_error\n",
       "0  32.0      32.916          32.0          0.916    \n",
       "1  39.0      39.273          37.0          2.273    \n",
       "2  41.0      41.089          41.0          0.089    \n",
       "3  36.0      36.549          34.0          2.549    "
      ]
     },
     "execution_count": 14,
     "metadata": {},
     "output_type": "execute_result"
    }
   ],
   "source": [
    "comparison = pd.DataFrame(\n",
    "    np.array([[x[0], pred[0], y, abs(pred[0] - y)] for x, pred, y in zip(X_p, predict(X_p, training_fx, b_0, b_1), y_p)]),\n",
    "    columns = ['X', 'predicted_value', 'real_value', 'absolute_error'])\n",
    "comparison"
   ]
  },
  {
   "cell_type": "code",
   "execution_count": 15,
   "id": "b204df31",
   "metadata": {},
   "outputs": [
    {
     "data": {
      "image/png": "[encoded data removed]",
      "text/plain": [
       "<Figure size 800x550 with 1 Axes>"
      ]
     },
     "metadata": {},
     "output_type": "display_data"
    }
   ],
   "source": [
    "training_fx = \"b_0 + b_1 * x\"\n",
    "plot_linear_regression(np.linspace(-5, 50, 1000), training_fx, b_0, b_1, X_p, y_p)"
   ]
  }
 ],
 "metadata": {
  "kernelspec": {
   "display_name": "Python 3 (ipykernel)",
   "language": "python",
   "name": "python3"
  },
  "language_info": {
   "codemirror_mode": {
    "name": "ipython",
    "version": 3
   },
   "file_extension": ".py",
   "mimetype": "text/x-python",
   "name": "python",
   "nbconvert_exporter": "python",
   "pygments_lexer": "ipython3",
   "version": "3.10.6"
  }
 },
 "nbformat": 4,
 "nbformat_minor": 5
}
